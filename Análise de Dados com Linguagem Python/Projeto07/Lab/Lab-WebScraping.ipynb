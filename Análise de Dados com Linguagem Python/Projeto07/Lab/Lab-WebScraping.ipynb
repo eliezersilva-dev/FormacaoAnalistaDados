{
 "cells": [
  {
   "cell_type": "markdown",
   "metadata": {
    "id": "ODnlQ5O9S3g4"
   },
   "source": [
    "# <font color='blue'>Data Science Academy</font>\n",
    "# <font color='blue'>Análise de Dados com Linguagem Python</font>"
   ]
  },
  {
   "cell_type": "markdown",
   "metadata": {
    "id": "pcMDr8-Uxsz8"
   },
   "source": [
    "## Lab - Web Scraping\n",
    "\n",
    "Para dúvidas sobre tags HTML e CSS consulte o material de referência na seção Bibliografia, Referências e Links Úteis ao final do capítulo."
   ]
  },
  {
   "cell_type": "markdown",
   "metadata": {},
   "source": [
    "### 1 - Extraindo Dados de Páginas Web"
   ]
  },
  {
   "cell_type": "code",
   "execution_count": 1,
   "metadata": {
    "id": "fCXVozZ1GRSO"
   },
   "outputs": [],
   "source": [
    "# Imports\n",
    "# https://pypi.org/project/beautifulsoup4/\n",
    "from bs4 import BeautifulSoup\n",
    "from bs4 import SoupStrainer"
   ]
  },
  {
   "cell_type": "code",
   "execution_count": 2,
   "metadata": {
    "id": "WTrxAjJE3GKm"
   },
   "outputs": [],
   "source": [
    "html_doc = \"\"\"<html><head><title>Os Agentes Especiais</title></head>\n",
    "<body>\n",
    "<p class=\"title\"><b>História dos Agentes Especiais</b></p>\n",
    "<p class=\"historia\">Era uma vez três agentes especiais; e seus nomes eram\n",
    "<a href=\"http://www.exemplo.com/james\" class=\"agente\" id=\"link1\">James</a>,\n",
    "<a href=\"http://www.exemplo.com/julio\" class=\"agente\" id=\"link2\">Julio</a> e\n",
    "<a href=\"http://www.exemplo.com/jucimar\" class=\"agente\" id=\"link3\">Jucimar</a>;\n",
    "e eles viviam em Londres, na Inglaterra.</p>\n",
    "<p class=\"historia\">...</p>\n",
    "<h1>Agentes Especiais</h1>\n",
    "<ul>\n",
    " <li data-id=\"10784\">James Bond, 007: Agente especial para atividades internacionais.</li>\n",
    " <li data-id=\"97865\">Julio Verner, 006: Agente especial contra o. terrorismo.</li>\n",
    " <li data-id=\"45732\">Jucimar Moraes, 005: Agente especial para proteger a rainha.</li>\n",
    "</ul>\n",
    "</body>\n",
    "</html>\"\"\""
   ]
  },
  {
   "cell_type": "code",
   "execution_count": 3,
   "metadata": {},
   "outputs": [],
   "source": [
    "# Extraindo a tag a\n",
    "tagsA = SoupStrainer(\"a\")"
   ]
  },
  {
   "cell_type": "code",
   "execution_count": 4,
   "metadata": {},
   "outputs": [],
   "source": [
    "# Convertendo o resultado anterioe em doc html do tipo lxml\n",
    "soupA = BeautifulSoup(html_doc, 'lxml', parse_only = tagsA)"
   ]
  },
  {
   "cell_type": "code",
   "execution_count": 5,
   "metadata": {},
   "outputs": [
    {
     "name": "stdout",
     "output_type": "stream",
     "text": [
      "<class 'bs4.BeautifulSoup'>\n"
     ]
    }
   ],
   "source": [
    "print(type(soupA))"
   ]
  },
  {
   "cell_type": "code",
   "execution_count": 6,
   "metadata": {
    "id": "l0HzpO7f3P2o"
   },
   "outputs": [
    {
     "name": "stdout",
     "output_type": "stream",
     "text": [
      "<a class=\"agente\" href=\"http://www.exemplo.com/james\" id=\"link1\">James</a><a class=\"agente\" href=\"http://www.exemplo.com/julio\" id=\"link2\">Julio</a><a class=\"agente\" href=\"http://www.exemplo.com/jucimar\" id=\"link3\">Jucimar</a>\n"
     ]
    }
   ],
   "source": [
    "print(soupA)"
   ]
  },
  {
   "cell_type": "code",
   "execution_count": 7,
   "metadata": {
    "id": "wwcB4MAQ4lnL"
   },
   "outputs": [
    {
     "name": "stdout",
     "output_type": "stream",
     "text": [
      "<a class=\"agente\" href=\"http://www.exemplo.com/james\" id=\"link1\">\n",
      " James\n",
      "</a>\n",
      "<a class=\"agente\" href=\"http://www.exemplo.com/julio\" id=\"link2\">\n",
      " Julio\n",
      "</a>\n",
      "<a class=\"agente\" href=\"http://www.exemplo.com/jucimar\" id=\"link3\">\n",
      " Jucimar\n",
      "</a>\n"
     ]
    }
   ],
   "source": [
    "# Formatando o resultado\n",
    "print(soupA.prettify())"
   ]
  },
  {
   "cell_type": "code",
   "execution_count": 8,
   "metadata": {
    "id": "6GZKJ4R-4rKS"
   },
   "outputs": [
    {
     "name": "stdout",
     "output_type": "stream",
     "text": [
      "True\n"
     ]
    }
   ],
   "source": [
    "# O objeto soupA tem atributo classe?\n",
    "print(soupA.a.has_attr('class'))"
   ]
  },
  {
   "cell_type": "code",
   "execution_count": 9,
   "metadata": {},
   "outputs": [
    {
     "name": "stdout",
     "output_type": "stream",
     "text": [
      "False\n"
     ]
    }
   ],
   "source": [
    "# O objeto soupA tem atributo name?\n",
    "print(soupA.a.has_attr('name'))"
   ]
  },
  {
   "cell_type": "markdown",
   "metadata": {
    "id": "8t4X8Q2z4-JZ"
   },
   "source": [
    "### 2 - Como Organizar e Analisar Dados Extraídos da Web"
   ]
  },
  {
   "cell_type": "code",
   "execution_count": 10,
   "metadata": {},
   "outputs": [
    {
     "name": "stdout",
     "output_type": "stream",
     "text": [
      "<a class=\"agente\" href=\"http://www.exemplo.com/james\" id=\"link1\">James</a>\n"
     ]
    }
   ],
   "source": [
    "print(soupA.find(\"a\"))"
   ]
  },
  {
   "cell_type": "code",
   "execution_count": 11,
   "metadata": {},
   "outputs": [
    {
     "name": "stdout",
     "output_type": "stream",
     "text": [
      "[<a class=\"agente\" href=\"http://www.exemplo.com/james\" id=\"link1\">James</a>, <a class=\"agente\" href=\"http://www.exemplo.com/julio\" id=\"link2\">Julio</a>, <a class=\"agente\" href=\"http://www.exemplo.com/jucimar\" id=\"link3\">Jucimar</a>]\n"
     ]
    }
   ],
   "source": [
    "print(soupA.find_all(\"a\")) "
   ]
  },
  {
   "cell_type": "code",
   "execution_count": 12,
   "metadata": {},
   "outputs": [
    {
     "name": "stdout",
     "output_type": "stream",
     "text": [
      "<a class=\"agente\" href=\"http://www.exemplo.com/james\" id=\"link1\">James</a>\n"
     ]
    }
   ],
   "source": [
    "print(soupA.find(\"a\", attrs = {'class':'agente'}))"
   ]
  },
  {
   "cell_type": "code",
   "execution_count": 13,
   "metadata": {},
   "outputs": [
    {
     "name": "stdout",
     "output_type": "stream",
     "text": [
      "<a class=\"agente\" href=\"http://www.exemplo.com/julio\" id=\"link2\">Julio</a>\n"
     ]
    }
   ],
   "source": [
    "print(soupA.find(\"a\", attrs = {'class':'agente'}, text = \"Julio\"))"
   ]
  },
  {
   "cell_type": "code",
   "execution_count": 14,
   "metadata": {},
   "outputs": [
    {
     "name": "stdout",
     "output_type": "stream",
     "text": [
      "<a class=\"agente\" href=\"http://www.exemplo.com/jucimar\" id=\"link3\">Jucimar</a>\n"
     ]
    }
   ],
   "source": [
    "print(soupA.find(\"a\", attrs = {'id':'link3'}))"
   ]
  },
  {
   "cell_type": "code",
   "execution_count": 15,
   "metadata": {},
   "outputs": [
    {
     "name": "stdout",
     "output_type": "stream",
     "text": [
      "<a class=\"agente\" href=\"http://www.exemplo.com/julio\" id=\"link2\">Julio</a>\n"
     ]
    }
   ],
   "source": [
    "print(soupA.find('a', id = \"link2\"))"
   ]
  },
  {
   "cell_type": "code",
   "execution_count": 16,
   "metadata": {
    "id": "wrITDp3R46WR"
   },
   "outputs": [
    {
     "name": "stdout",
     "output_type": "stream",
     "text": [
      "[<a class=\"agente\" href=\"http://www.exemplo.com/james\" id=\"link1\">James</a>, <a class=\"agente\" href=\"http://www.exemplo.com/julio\" id=\"link2\">Julio</a>]\n"
     ]
    }
   ],
   "source": [
    "print(soupA.find_all(\"a\", limit = 2))"
   ]
  },
  {
   "cell_type": "markdown",
   "metadata": {},
   "source": [
    "### 3 - Usando Expressão Regular Para Filtrar os Resultados"
   ]
  },
  {
   "cell_type": "code",
   "execution_count": 17,
   "metadata": {
    "id": "cAMwOsp05tdr"
   },
   "outputs": [],
   "source": [
    "import re"
   ]
  },
  {
   "cell_type": "code",
   "execution_count": 18,
   "metadata": {},
   "outputs": [
    {
     "name": "stdout",
     "output_type": "stream",
     "text": [
      "<a class=\"agente\" href=\"http://www.exemplo.com/julio\" id=\"link2\">Julio</a>\n"
     ]
    }
   ],
   "source": [
    "print(soupA.find(\"a\", text = re.compile(r'lio')))"
   ]
  },
  {
   "cell_type": "code",
   "execution_count": 19,
   "metadata": {},
   "outputs": [
    {
     "name": "stdout",
     "output_type": "stream",
     "text": [
      "[<a class=\"agente\" href=\"http://www.exemplo.com/jucimar\" id=\"link3\">Jucimar</a>]\n"
     ]
    }
   ],
   "source": [
    "print(soupA.find_all(\"a\", attrs = {'id':re.compile(r'3')}))"
   ]
  },
  {
   "cell_type": "code",
   "execution_count": 20,
   "metadata": {},
   "outputs": [
    {
     "name": "stdout",
     "output_type": "stream",
     "text": [
      "[<a class=\"agente\" href=\"http://www.exemplo.com/james\" id=\"link1\">James</a>, <a class=\"agente\" href=\"http://www.exemplo.com/julio\" id=\"link2\">Julio</a>, <a class=\"agente\" href=\"http://www.exemplo.com/jucimar\" id=\"link3\">Jucimar</a>]\n"
     ]
    }
   ],
   "source": [
    "print(soupA.find_all(re.compile(r'a')))"
   ]
  },
  {
   "cell_type": "code",
   "execution_count": 21,
   "metadata": {},
   "outputs": [],
   "source": [
    "soup = BeautifulSoup(html_doc, 'lxml')"
   ]
  },
  {
   "cell_type": "code",
   "execution_count": 22,
   "metadata": {},
   "outputs": [
    {
     "name": "stdout",
     "output_type": "stream",
     "text": [
      "<html><head><title>Os Agentes Especiais</title></head>\n",
      "<body>\n",
      "<p class=\"title\"><b>História dos Agentes Especiais</b></p>\n",
      "<p class=\"historia\">Era uma vez três agentes especiais; e seus nomes eram\n",
      "<a class=\"agente\" href=\"http://www.exemplo.com/james\" id=\"link1\">James</a>,\n",
      "<a class=\"agente\" href=\"http://www.exemplo.com/julio\" id=\"link2\">Julio</a> e\n",
      "<a class=\"agente\" href=\"http://www.exemplo.com/jucimar\" id=\"link3\">Jucimar</a>;\n",
      "e eles viviam em Londres, na Inglaterra.</p>\n",
      "<p class=\"historia\">...</p>\n",
      "<h1>Agentes Especiais</h1>\n",
      "<ul>\n",
      "<li data-id=\"10784\">James Bond, 007: Agente especial para atividades internacionais.</li>\n",
      "<li data-id=\"97865\">Julio Verner, 006: Agente especial contra o. terrorismo.</li>\n",
      "<li data-id=\"45732\">Jucimar Moraes, 005: Agente especial para proteger a rainha.</li>\n",
      "</ul>\n",
      "</body>\n",
      "</html>\n"
     ]
    }
   ],
   "source": [
    "print(soup)"
   ]
  },
  {
   "cell_type": "code",
   "execution_count": 23,
   "metadata": {},
   "outputs": [
    {
     "name": "stdout",
     "output_type": "stream",
     "text": [
      "[<p class=\"historia\">Era uma vez três agentes especiais; e seus nomes eram\n",
      "<a class=\"agente\" href=\"http://www.exemplo.com/james\" id=\"link1\">James</a>,\n",
      "<a class=\"agente\" href=\"http://www.exemplo.com/julio\" id=\"link2\">Julio</a> e\n",
      "<a class=\"agente\" href=\"http://www.exemplo.com/jucimar\" id=\"link3\">Jucimar</a>;\n",
      "e eles viviam em Londres, na Inglaterra.</p>, <p class=\"historia\">...</p>]\n"
     ]
    }
   ],
   "source": [
    "print(soup.find_all(\"p\", \"historia\"))"
   ]
  },
  {
   "cell_type": "code",
   "execution_count": 24,
   "metadata": {},
   "outputs": [
    {
     "name": "stdout",
     "output_type": "stream",
     "text": [
      "[<p class=\"title\"><b>História dos Agentes Especiais</b></p>]\n"
     ]
    }
   ],
   "source": [
    "print(soup.find_all(\"p\", \"title\"))"
   ]
  },
  {
   "cell_type": "code",
   "execution_count": 25,
   "metadata": {},
   "outputs": [
    {
     "name": "stdout",
     "output_type": "stream",
     "text": [
      "[<p class=\"title\"><b>História dos Agentes Especiais</b></p>, <p class=\"historia\">Era uma vez três agentes especiais; e seus nomes eram\n",
      "<a class=\"agente\" href=\"http://www.exemplo.com/james\" id=\"link1\">James</a>,\n",
      "<a class=\"agente\" href=\"http://www.exemplo.com/julio\" id=\"link2\">Julio</a> e\n",
      "<a class=\"agente\" href=\"http://www.exemplo.com/jucimar\" id=\"link3\">Jucimar</a>;\n",
      "e eles viviam em Londres, na Inglaterra.</p>, <p class=\"historia\">...</p>]\n"
     ]
    }
   ],
   "source": [
    "print(soup.find_all(\"p\", attrs = {'class':['title','historia']}))"
   ]
  },
  {
   "cell_type": "code",
   "execution_count": 26,
   "metadata": {
    "id": "0assm9Zq5978"
   },
   "outputs": [
    {
     "name": "stdout",
     "output_type": "stream",
     "text": [
      "[<p class=\"title\"><b>História dos Agentes Especiais</b></p>, <p class=\"historia\">Era uma vez três agentes especiais; e seus nomes eram\n",
      "<a class=\"agente\" href=\"http://www.exemplo.com/james\" id=\"link1\">James</a>,\n",
      "<a class=\"agente\" href=\"http://www.exemplo.com/julio\" id=\"link2\">Julio</a> e\n",
      "<a class=\"agente\" href=\"http://www.exemplo.com/jucimar\" id=\"link3\">Jucimar</a>;\n",
      "e eles viviam em Londres, na Inglaterra.</p>, <p class=\"historia\">...</p>, <li data-id=\"10784\">James Bond, 007: Agente especial para atividades internacionais.</li>, <li data-id=\"97865\">Julio Verner, 006: Agente especial contra o. terrorismo.</li>, <li data-id=\"45732\">Jucimar Moraes, 005: Agente especial para proteger a rainha.</li>]\n"
     ]
    }
   ],
   "source": [
    "print(soup.find_all([\"p\", \"li\"]))"
   ]
  },
  {
   "cell_type": "code",
   "execution_count": 27,
   "metadata": {},
   "outputs": [
    {
     "name": "stdout",
     "output_type": "stream",
     "text": [
      "['James']\n"
     ]
    }
   ],
   "source": [
    "print(soup.find_all(string = 'James'))"
   ]
  },
  {
   "cell_type": "code",
   "execution_count": 28,
   "metadata": {},
   "outputs": [
    {
     "name": "stdout",
     "output_type": "stream",
     "text": [
      "['James', 'James Bond, 007: Agente especial para atividades internacionais.']\n"
     ]
    }
   ],
   "source": [
    "print(soup.find_all(text = re.compile(r'Ja')))"
   ]
  },
  {
   "cell_type": "code",
   "execution_count": 29,
   "metadata": {},
   "outputs": [
    {
     "name": "stdout",
     "output_type": "stream",
     "text": [
      "[<a class=\"agente\" href=\"http://www.exemplo.com/jucimar\" id=\"link3\">Jucimar</a>]\n"
     ]
    }
   ],
   "source": [
    "print(soup.find_all(\"a\", string = \"Jucimar\"))"
   ]
  },
  {
   "cell_type": "code",
   "execution_count": 30,
   "metadata": {
    "id": "LXG5jhhTwCLD"
   },
   "outputs": [
    {
     "name": "stdout",
     "output_type": "stream",
     "text": [
      "<li data-id=\"45732\">Jucimar Moraes, 005: Agente especial para proteger a rainha.</li>\n"
     ]
    }
   ],
   "source": [
    "print(soup.ul.find('li', attrs = {'data-id':'45732'}))"
   ]
  },
  {
   "cell_type": "code",
   "execution_count": 31,
   "metadata": {},
   "outputs": [
    {
     "name": "stdout",
     "output_type": "stream",
     "text": [
      "Jucimar Moraes, 005: Agente especial para proteger a rainha.\n"
     ]
    }
   ],
   "source": [
    "print(soup.ul.find('li', attrs = {'data-id':'45732'}).text)"
   ]
  },
  {
   "cell_type": "code",
   "execution_count": 32,
   "metadata": {},
   "outputs": [
    {
     "name": "stdout",
     "output_type": "stream",
     "text": [
      "<b>História dos Agentes Especiais</b>\n"
     ]
    }
   ],
   "source": [
    "print(soup.p.b)"
   ]
  },
  {
   "cell_type": "code",
   "execution_count": 33,
   "metadata": {},
   "outputs": [
    {
     "name": "stdout",
     "output_type": "stream",
     "text": [
      "História dos Agentes Especiais\n"
     ]
    }
   ],
   "source": [
    "print(soup.p.text)"
   ]
  },
  {
   "cell_type": "markdown",
   "metadata": {
    "id": "Z9tvosK3w6hh"
   },
   "source": [
    "### 4 - Busca e Extração de Hierarquia da Página Web"
   ]
  },
  {
   "cell_type": "code",
   "execution_count": 34,
   "metadata": {},
   "outputs": [
    {
     "name": "stdout",
     "output_type": "stream",
     "text": [
      "['Era uma vez três agentes especiais; e seus nomes eram\\n', <a class=\"agente\" href=\"http://www.exemplo.com/james\" id=\"link1\">James</a>, ',\\n', <a class=\"agente\" href=\"http://www.exemplo.com/julio\" id=\"link2\">Julio</a>, ' e\\n', <a class=\"agente\" href=\"http://www.exemplo.com/jucimar\" id=\"link3\">Jucimar</a>, ';\\ne eles viviam em Londres, na Inglaterra.']\n"
     ]
    }
   ],
   "source": [
    "print(list(soup.find('p', 'historia').children))"
   ]
  },
  {
   "cell_type": "code",
   "execution_count": 35,
   "metadata": {},
   "outputs": [
    {
     "name": "stdout",
     "output_type": "stream",
     "text": [
      "['Era uma vez três agentes especiais; e seus nomes eram\\n', <a class=\"agente\" href=\"http://www.exemplo.com/james\" id=\"link1\">James</a>, ',\\n', <a class=\"agente\" href=\"http://www.exemplo.com/julio\" id=\"link2\">Julio</a>, ' e\\n', <a class=\"agente\" href=\"http://www.exemplo.com/jucimar\" id=\"link3\">Jucimar</a>, ';\\ne eles viviam em Londres, na Inglaterra.']\n"
     ]
    }
   ],
   "source": [
    "print(list(soup.find('p', 'historia').contents))"
   ]
  },
  {
   "cell_type": "code",
   "execution_count": 36,
   "metadata": {},
   "outputs": [
    {
     "name": "stdout",
     "output_type": "stream",
     "text": [
      "['Era uma vez três agentes especiais; e seus nomes eram\\n', <a class=\"agente\" href=\"http://www.exemplo.com/james\" id=\"link1\">James</a>, 'James', ',\\n', <a class=\"agente\" href=\"http://www.exemplo.com/julio\" id=\"link2\">Julio</a>, 'Julio', ' e\\n', <a class=\"agente\" href=\"http://www.exemplo.com/jucimar\" id=\"link3\">Jucimar</a>, 'Jucimar', ';\\ne eles viviam em Londres, na Inglaterra.']\n"
     ]
    }
   ],
   "source": [
    "print(list(soup.find('p', 'historia').descendants))"
   ]
  },
  {
   "cell_type": "markdown",
   "metadata": {},
   "source": [
    "> Usando List Comprehension "
   ]
  },
  {
   "cell_type": "code",
   "execution_count": 37,
   "metadata": {
    "id": "pMi4xvuiOz7M"
   },
   "outputs": [
    {
     "name": "stdout",
     "output_type": "stream",
     "text": [
      "[None, 'a', None, 'a', None, 'a', None]\n"
     ]
    }
   ],
   "source": [
    "print([a.name for a in soup.find('p','historia').children])"
   ]
  },
  {
   "cell_type": "code",
   "execution_count": 38,
   "metadata": {},
   "outputs": [
    {
     "name": "stdout",
     "output_type": "stream",
     "text": [
      "[{'tag': 'a', 'text': 'James', 'class': ['agente']}, {'tag': 'a', 'text': 'Julio', 'class': ['agente']}, {'tag': 'a', 'text': 'Jucimar', 'class': ['agente']}]\n"
     ]
    }
   ],
   "source": [
    "print([{'tag':a.name,'text':a.text,'class':a.get('class')} for a in soup.find('p','historia').children if a.name!=None])\n"
   ]
  },
  {
   "cell_type": "code",
   "execution_count": 39,
   "metadata": {},
   "outputs": [
    {
     "name": "stdout",
     "output_type": "stream",
     "text": [
      "[None, 'a', None, None, 'a', None, None, 'a', None, None]\n"
     ]
    }
   ],
   "source": [
    "print([a.name for a in soup.find('p', 'historia').descendants])"
   ]
  },
  {
   "cell_type": "code",
   "execution_count": 40,
   "metadata": {},
   "outputs": [
    {
     "name": "stdout",
     "output_type": "stream",
     "text": [
      "['Era uma vez três agentes especiais; e seus nomes eram\\n', 'James', 'James', ',\\n', 'Julio', 'Julio', ' e\\n', 'Jucimar', 'Jucimar', ';\\ne eles viviam em Londres, na Inglaterra.']\n"
     ]
    }
   ],
   "source": [
    "print(list(filter(None, [a.text for a in soup.find('p', 'historia').descendants])))"
   ]
  },
  {
   "cell_type": "code",
   "execution_count": 41,
   "metadata": {},
   "outputs": [
    {
     "name": "stdout",
     "output_type": "stream",
     "text": [
      "[<a class=\"agente\" href=\"http://www.exemplo.com/james\" id=\"link1\">James</a>, <a class=\"agente\" href=\"http://www.exemplo.com/julio\" id=\"link2\">Julio</a>, <a class=\"agente\" href=\"http://www.exemplo.com/jucimar\" id=\"link3\">Jucimar</a>]\n"
     ]
    }
   ],
   "source": [
    "print(soup.find('p', 'historia').findChildren())"
   ]
  },
  {
   "cell_type": "code",
   "execution_count": 42,
   "metadata": {
    "id": "LGHBWVbFO3XJ"
   },
   "outputs": [
    {
     "name": "stdout",
     "output_type": "stream",
     "text": [
      "<a class=\"agente\" href=\"http://www.exemplo.com/james\" id=\"link1\">James</a>\n"
     ]
    }
   ],
   "source": [
    "print(soup.find('p', 'historia').findChild())"
   ]
  },
  {
   "cell_type": "code",
   "execution_count": 43,
   "metadata": {},
   "outputs": [
    {
     "name": "stdout",
     "output_type": "stream",
     "text": [
      "<p class=\"historia\">Era uma vez três agentes especiais; e seus nomes eram\n",
      "<a class=\"agente\" href=\"http://www.exemplo.com/james\" id=\"link1\">James</a>,\n",
      "<a class=\"agente\" href=\"http://www.exemplo.com/julio\" id=\"link2\">Julio</a> e\n",
      "<a class=\"agente\" href=\"http://www.exemplo.com/jucimar\" id=\"link3\">Jucimar</a>;\n",
      "e eles viviam em Londres, na Inglaterra.</p>\n"
     ]
    }
   ],
   "source": [
    "print(soup.find('a', 'agente').parent)"
   ]
  },
  {
   "cell_type": "code",
   "execution_count": 44,
   "metadata": {},
   "outputs": [
    {
     "name": "stdout",
     "output_type": "stream",
     "text": [
      "p\n"
     ]
    }
   ],
   "source": [
    "print(soup.find('a', 'agente').parent.name)"
   ]
  },
  {
   "cell_type": "code",
   "execution_count": 45,
   "metadata": {
    "id": "y9e-hZ6hPKPU"
   },
   "outputs": [
    {
     "name": "stdout",
     "output_type": "stream",
     "text": [
      "Era uma vez três agentes especiais; e seus nomes eram\n",
      "James,\n",
      "Julio e\n",
      "Jucimar;\n",
      "e eles viviam em Londres, na Inglaterra.\n"
     ]
    }
   ],
   "source": [
    "print(soup.find('a', 'agente').parent.text)"
   ]
  },
  {
   "cell_type": "code",
   "execution_count": 46,
   "metadata": {
    "id": "9PhMrADvPLLS"
   },
   "outputs": [
    {
     "name": "stdout",
     "output_type": "stream",
     "text": [
      "p\n",
      "body\n",
      "html\n",
      "[document]\n"
     ]
    }
   ],
   "source": [
    "for elemento in soup.find('a', 'agente').parents:\n",
    "    print(elemento.name)"
   ]
  },
  {
   "cell_type": "code",
   "execution_count": 47,
   "metadata": {},
   "outputs": [
    {
     "name": "stdout",
     "output_type": "stream",
     "text": [
      "<p class=\"historia\">Era uma vez três agentes especiais; e seus nomes eram\n",
      "<a class=\"agente\" href=\"http://www.exemplo.com/james\" id=\"link1\">James</a>,\n",
      "<a class=\"agente\" href=\"http://www.exemplo.com/julio\" id=\"link2\">Julio</a> e\n",
      "<a class=\"agente\" href=\"http://www.exemplo.com/jucimar\" id=\"link3\">Jucimar</a>;\n",
      "e eles viviam em Londres, na Inglaterra.</p>\n"
     ]
    }
   ],
   "source": [
    "# Encontra o nível anterior\n",
    "print(soup.find('a','agente').findParent())"
   ]
  },
  {
   "cell_type": "markdown",
   "metadata": {
    "id": "u5zhRgv4PYZE"
   },
   "source": [
    "### 5- Navegando Pelas Tags"
   ]
  },
  {
   "cell_type": "code",
   "execution_count": 48,
   "metadata": {},
   "outputs": [
    {
     "name": "stdout",
     "output_type": "stream",
     "text": [
      "<html><head><title>Os Agentes Especiais</title></head>\n",
      "<body>\n",
      "<p class=\"title\"><b>História dos Agentes Especiais</b></p>\n",
      "<p class=\"historia\">Era uma vez três agentes especiais; e seus nomes eram\n",
      "<a class=\"agente\" href=\"http://www.exemplo.com/james\" id=\"link1\">James</a>,\n",
      "<a class=\"agente\" href=\"http://www.exemplo.com/julio\" id=\"link2\">Julio</a> e\n",
      "<a class=\"agente\" href=\"http://www.exemplo.com/jucimar\" id=\"link3\">Jucimar</a>;\n",
      "e eles viviam em Londres, na Inglaterra.</p>\n",
      "<p class=\"historia\">...</p>\n",
      "<h1>Agentes Especiais</h1>\n",
      "<ul>\n",
      "<li data-id=\"10784\">James Bond, 007: Agente especial para atividades internacionais.</li>\n",
      "<li data-id=\"97865\">Julio Verner, 006: Agente especial contra o. terrorismo.</li>\n",
      "<li data-id=\"45732\">Jucimar Moraes, 005: Agente especial para proteger a rainha.</li>\n",
      "</ul>\n",
      "</body>\n",
      "</html>\n"
     ]
    }
   ],
   "source": [
    "print(soup)"
   ]
  },
  {
   "cell_type": "code",
   "execution_count": 49,
   "metadata": {},
   "outputs": [
    {
     "name": "stdout",
     "output_type": "stream",
     "text": [
      "Era uma vez três agentes especiais; e seus nomes eram\n",
      "\n"
     ]
    }
   ],
   "source": [
    "print(soup.find('p','historia').next)"
   ]
  },
  {
   "cell_type": "code",
   "execution_count": 50,
   "metadata": {},
   "outputs": [
    {
     "name": "stdout",
     "output_type": "stream",
     "text": [
      "<a class=\"agente\" href=\"http://www.exemplo.com/james\" id=\"link1\">James</a>\n"
     ]
    }
   ],
   "source": [
    "print(soup.find('p','historia').next.next)"
   ]
  },
  {
   "cell_type": "code",
   "execution_count": 51,
   "metadata": {},
   "outputs": [
    {
     "name": "stdout",
     "output_type": "stream",
     "text": [
      "Era uma vez três agentes especiais; e seus nomes eram\n",
      "\n"
     ]
    }
   ],
   "source": [
    "print(soup.find('p','historia').next_element)"
   ]
  },
  {
   "cell_type": "code",
   "execution_count": 52,
   "metadata": {},
   "outputs": [
    {
     "name": "stdout",
     "output_type": "stream",
     "text": [
      "<a class=\"agente\" href=\"http://www.exemplo.com/james\" id=\"link1\">James</a>\n"
     ]
    }
   ],
   "source": [
    "print(soup.find('p','historia').next_element.next_element)"
   ]
  },
  {
   "cell_type": "code",
   "execution_count": 53,
   "metadata": {
    "id": "A55KX46ePc2y"
   },
   "outputs": [
    {
     "name": "stdout",
     "output_type": "stream",
     "text": [
      "James\n"
     ]
    }
   ],
   "source": [
    "print(soup.find('p','historia').next_element.next_element.next_element)"
   ]
  },
  {
   "cell_type": "code",
   "execution_count": 54,
   "metadata": {},
   "outputs": [
    {
     "name": "stdout",
     "output_type": "stream",
     "text": [
      "\n",
      "\n"
     ]
    }
   ],
   "source": [
    "print(soup.find('p','title').next.next.next) "
   ]
  },
  {
   "cell_type": "code",
   "execution_count": 55,
   "metadata": {},
   "outputs": [
    {
     "name": "stdout",
     "output_type": "stream",
     "text": [
      "\n",
      "\n"
     ]
    }
   ],
   "source": [
    "print(soup.find('p','historia').previous) "
   ]
  },
  {
   "cell_type": "code",
   "execution_count": 56,
   "metadata": {},
   "outputs": [
    {
     "name": "stdout",
     "output_type": "stream",
     "text": [
      "História dos Agentes Especiais\n"
     ]
    }
   ],
   "source": [
    "print(soup.find('p','historia').previous.previous)"
   ]
  },
  {
   "cell_type": "code",
   "execution_count": 57,
   "metadata": {},
   "outputs": [
    {
     "name": "stdout",
     "output_type": "stream",
     "text": [
      "\n",
      "\n"
     ]
    }
   ],
   "source": [
    "print(soup.find('p','historia').previous_element)"
   ]
  },
  {
   "cell_type": "code",
   "execution_count": 58,
   "metadata": {
    "id": "IWtXfhubPwxI"
   },
   "outputs": [
    {
     "name": "stdout",
     "output_type": "stream",
     "text": [
      "História dos Agentes Especiais\n"
     ]
    }
   ],
   "source": [
    "print(soup.find('p','historia').previous_element.previous_element)"
   ]
  },
  {
   "cell_type": "code",
   "execution_count": 59,
   "metadata": {},
   "outputs": [
    {
     "name": "stdout",
     "output_type": "stream",
     "text": [
      "<b>História dos Agentes Especiais</b>\n"
     ]
    }
   ],
   "source": [
    "print(soup.find('p','historia').previous_element.previous_element.previous_element)"
   ]
  },
  {
   "cell_type": "code",
   "execution_count": 60,
   "metadata": {
    "id": "JCiUIL5GP6Ph"
   },
   "outputs": [
    {
     "name": "stdout",
     "output_type": "stream",
     "text": [
      "<p class=\"title\"><b>História dos Agentes Especiais</b></p>\n"
     ]
    }
   ],
   "source": [
    "print(soup.find('p','title').next.next.previous.previous)"
   ]
  },
  {
   "cell_type": "code",
   "execution_count": 61,
   "metadata": {},
   "outputs": [
    {
     "name": "stdout",
     "output_type": "stream",
     "text": [
      "\n",
      "\n",
      "<li data-id=\"10784\">James Bond, 007: Agente especial para atividades internacionais.</li>\n",
      "James Bond, 007: Agente especial para atividades internacionais.\n",
      "\n",
      "\n",
      "<li data-id=\"97865\">Julio Verner, 006: Agente especial contra o. terrorismo.</li>\n",
      "Julio Verner, 006: Agente especial contra o. terrorismo.\n",
      "\n",
      "\n",
      "<li data-id=\"45732\">Jucimar Moraes, 005: Agente especial para proteger a rainha.</li>\n",
      "Jucimar Moraes, 005: Agente especial para proteger a rainha.\n",
      "\n",
      "\n",
      "\n",
      "\n",
      "\n",
      "\n"
     ]
    }
   ],
   "source": [
    "for element in soup.find('ul').next_elements:\n",
    "    print(element)"
   ]
  },
  {
   "cell_type": "code",
   "execution_count": 62,
   "metadata": {},
   "outputs": [
    {
     "name": "stdout",
     "output_type": "stream",
     "text": [
      "Era uma vez três agentes especiais; e seus nomes eram\n",
      "\n"
     ]
    }
   ],
   "source": [
    "print(soup.find('p','historia').next)"
   ]
  },
  {
   "cell_type": "code",
   "execution_count": 63,
   "metadata": {
    "id": "0M_eg-YIQSw3"
   },
   "outputs": [
    {
     "name": "stdout",
     "output_type": "stream",
     "text": [
      "Era uma vez três agentes especiais; e seus nomes eram\n",
      "\n"
     ]
    }
   ],
   "source": [
    "print(soup.find('p','historia').next_element)"
   ]
  },
  {
   "cell_type": "code",
   "execution_count": 64,
   "metadata": {},
   "outputs": [
    {
     "name": "stdout",
     "output_type": "stream",
     "text": [
      "<a class=\"agente\" href=\"http://www.exemplo.com/james\" id=\"link1\">James</a>\n"
     ]
    }
   ],
   "source": [
    "print(soup.find('p','historia').find_next()) "
   ]
  },
  {
   "cell_type": "code",
   "execution_count": 65,
   "metadata": {},
   "outputs": [
    {
     "name": "stdout",
     "output_type": "stream",
     "text": [
      "<h1>Agentes Especiais</h1>\n"
     ]
    }
   ],
   "source": [
    "print(soup.find('p','historia').find_next('h1'))"
   ]
  },
  {
   "cell_type": "code",
   "execution_count": 66,
   "metadata": {},
   "outputs": [
    {
     "name": "stdout",
     "output_type": "stream",
     "text": [
      "[<a class=\"agente\" href=\"http://www.exemplo.com/james\" id=\"link1\">James</a>, <a class=\"agente\" href=\"http://www.exemplo.com/julio\" id=\"link2\">Julio</a>, <a class=\"agente\" href=\"http://www.exemplo.com/jucimar\" id=\"link3\">Jucimar</a>, <p class=\"historia\">...</p>, <h1>Agentes Especiais</h1>, <ul>\n",
      "<li data-id=\"10784\">James Bond, 007: Agente especial para atividades internacionais.</li>\n",
      "<li data-id=\"97865\">Julio Verner, 006: Agente especial contra o. terrorismo.</li>\n",
      "<li data-id=\"45732\">Jucimar Moraes, 005: Agente especial para proteger a rainha.</li>\n",
      "</ul>, <li data-id=\"10784\">James Bond, 007: Agente especial para atividades internacionais.</li>, <li data-id=\"97865\">Julio Verner, 006: Agente especial contra o. terrorismo.</li>, <li data-id=\"45732\">Jucimar Moraes, 005: Agente especial para proteger a rainha.</li>]\n"
     ]
    }
   ],
   "source": [
    "print(soup.find('p','historia').find_all_next())"
   ]
  },
  {
   "cell_type": "code",
   "execution_count": 67,
   "metadata": {},
   "outputs": [
    {
     "name": "stdout",
     "output_type": "stream",
     "text": [
      "[<li data-id=\"10784\">James Bond, 007: Agente especial para atividades internacionais.</li>, <li data-id=\"97865\">Julio Verner, 006: Agente especial contra o. terrorismo.</li>]\n"
     ]
    }
   ],
   "source": [
    "print(soup.find('p','historia').find_all_next('li', limit = 2))"
   ]
  },
  {
   "cell_type": "code",
   "execution_count": 68,
   "metadata": {},
   "outputs": [
    {
     "name": "stdout",
     "output_type": "stream",
     "text": [
      "<h1>Agentes Especiais</h1>\n"
     ]
    }
   ],
   "source": [
    "print(soup.find('ul').previous.previous.previous)"
   ]
  },
  {
   "cell_type": "code",
   "execution_count": 69,
   "metadata": {
    "id": "eFwypodOQULH"
   },
   "outputs": [
    {
     "name": "stdout",
     "output_type": "stream",
     "text": [
      "<h1>Agentes Especiais</h1>\n"
     ]
    }
   ],
   "source": [
    "print(soup.find('ul').find_previous())"
   ]
  },
  {
   "cell_type": "code",
   "execution_count": 70,
   "metadata": {},
   "outputs": [
    {
     "name": "stdout",
     "output_type": "stream",
     "text": [
      "<p class=\"title\"><b>História dos Agentes Especiais</b></p>\n"
     ]
    }
   ],
   "source": [
    "print(soup.find('ul').find_previous('p','title'))"
   ]
  },
  {
   "cell_type": "code",
   "execution_count": 71,
   "metadata": {
    "id": "kkiaUjBaQZr8"
   },
   "outputs": [
    {
     "name": "stdout",
     "output_type": "stream",
     "text": [
      "[<p class=\"historia\">...</p>, <p class=\"historia\">Era uma vez três agentes especiais; e seus nomes eram\n",
      "<a class=\"agente\" href=\"http://www.exemplo.com/james\" id=\"link1\">James</a>,\n",
      "<a class=\"agente\" href=\"http://www.exemplo.com/julio\" id=\"link2\">Julio</a> e\n",
      "<a class=\"agente\" href=\"http://www.exemplo.com/jucimar\" id=\"link3\">Jucimar</a>;\n",
      "e eles viviam em Londres, na Inglaterra.</p>, <p class=\"title\"><b>História dos Agentes Especiais</b></p>]\n"
     ]
    }
   ],
   "source": [
    "print(soup.find('ul').find_all_previous('p'))"
   ]
  },
  {
   "cell_type": "code",
   "execution_count": 72,
   "metadata": {},
   "outputs": [
    {
     "name": "stdout",
     "output_type": "stream",
     "text": [
      "\n",
      "\n"
     ]
    }
   ],
   "source": [
    "print(soup.find('p','title').next_sibling)"
   ]
  },
  {
   "cell_type": "code",
   "execution_count": 73,
   "metadata": {},
   "outputs": [
    {
     "name": "stdout",
     "output_type": "stream",
     "text": [
      "<p class=\"historia\">Era uma vez três agentes especiais; e seus nomes eram\n",
      "<a class=\"agente\" href=\"http://www.exemplo.com/james\" id=\"link1\">James</a>,\n",
      "<a class=\"agente\" href=\"http://www.exemplo.com/julio\" id=\"link2\">Julio</a> e\n",
      "<a class=\"agente\" href=\"http://www.exemplo.com/jucimar\" id=\"link3\">Jucimar</a>;\n",
      "e eles viviam em Londres, na Inglaterra.</p>\n"
     ]
    }
   ],
   "source": [
    "print(soup.find('p','title').next_sibling.next_sibling)"
   ]
  },
  {
   "cell_type": "code",
   "execution_count": 74,
   "metadata": {},
   "outputs": [
    {
     "name": "stdout",
     "output_type": "stream",
     "text": [
      "\n",
      "\n"
     ]
    }
   ],
   "source": [
    "print(soup.find('ul').previous_sibling) "
   ]
  },
  {
   "cell_type": "code",
   "execution_count": 75,
   "metadata": {
    "id": "gT8eKYjUQdno"
   },
   "outputs": [
    {
     "name": "stdout",
     "output_type": "stream",
     "text": [
      "<h1>Agentes Especiais</h1>\n"
     ]
    }
   ],
   "source": [
    "print(soup.find('ul').previous_sibling.previous_sibling)"
   ]
  },
  {
   "cell_type": "code",
   "execution_count": 76,
   "metadata": {},
   "outputs": [
    {
     "name": "stdout",
     "output_type": "stream",
     "text": [
      "['p', 'p', 'h1', 'ul']\n"
     ]
    }
   ],
   "source": [
    "title = [ele.name for ele in soup.find('p','title').next_siblings]\n",
    "print(list(filter(None,title)))"
   ]
  },
  {
   "cell_type": "code",
   "execution_count": 77,
   "metadata": {
    "id": "U0_MsdwKQqS5"
   },
   "outputs": [
    {
     "name": "stdout",
     "output_type": "stream",
     "text": [
      "['h1', 'p', 'p', 'p']\n"
     ]
    }
   ],
   "source": [
    "ul = [ele.name for ele in soup.find('ul').previous_siblings]\n",
    "print(list(filter(None,ul)))"
   ]
  },
  {
   "cell_type": "code",
   "execution_count": 78,
   "metadata": {},
   "outputs": [
    {
     "name": "stdout",
     "output_type": "stream",
     "text": [
      "[<p class=\"historia\">Era uma vez três agentes especiais; e seus nomes eram\n",
      "<a class=\"agente\" href=\"http://www.exemplo.com/james\" id=\"link1\">James</a>,\n",
      "<a class=\"agente\" href=\"http://www.exemplo.com/julio\" id=\"link2\">Julio</a> e\n",
      "<a class=\"agente\" href=\"http://www.exemplo.com/jucimar\" id=\"link3\">Jucimar</a>;\n",
      "e eles viviam em Londres, na Inglaterra.</p>, <p class=\"historia\">...</p>]\n"
     ]
    }
   ],
   "source": [
    "print(soup.find('p','title').find_next_siblings('p'))"
   ]
  },
  {
   "cell_type": "code",
   "execution_count": 79,
   "metadata": {},
   "outputs": [
    {
     "name": "stdout",
     "output_type": "stream",
     "text": [
      "<ul>\n",
      "<li data-id=\"10784\">James Bond, 007: Agente especial para atividades internacionais.</li>\n",
      "<li data-id=\"97865\">Julio Verner, 006: Agente especial contra o. terrorismo.</li>\n",
      "<li data-id=\"45732\">Jucimar Moraes, 005: Agente especial para proteger a rainha.</li>\n",
      "</ul>\n"
     ]
    }
   ],
   "source": [
    "print(soup.find('h1').find_next_sibling())"
   ]
  },
  {
   "cell_type": "code",
   "execution_count": 80,
   "metadata": {},
   "outputs": [
    {
     "name": "stdout",
     "output_type": "stream",
     "text": [
      "None\n"
     ]
    }
   ],
   "source": [
    "print(soup.find('h1').find_next_sibling('li'))"
   ]
  },
  {
   "cell_type": "code",
   "execution_count": 81,
   "metadata": {},
   "outputs": [
    {
     "name": "stdout",
     "output_type": "stream",
     "text": [
      "<h1>Agentes Especiais</h1>\n"
     ]
    }
   ],
   "source": [
    "print(soup.find('ul').find_previous_sibling())"
   ]
  },
  {
   "cell_type": "code",
   "execution_count": 82,
   "metadata": {
    "id": "p1CLS6OJQrj0"
   },
   "outputs": [
    {
     "name": "stdout",
     "output_type": "stream",
     "text": [
      "[<h1>Agentes Especiais</h1>, <p class=\"historia\">...</p>, <p class=\"historia\">Era uma vez três agentes especiais; e seus nomes eram\n",
      "<a class=\"agente\" href=\"http://www.exemplo.com/james\" id=\"link1\">James</a>,\n",
      "<a class=\"agente\" href=\"http://www.exemplo.com/julio\" id=\"link2\">Julio</a> e\n",
      "<a class=\"agente\" href=\"http://www.exemplo.com/jucimar\" id=\"link3\">Jucimar</a>;\n",
      "e eles viviam em Londres, na Inglaterra.</p>, <p class=\"title\"><b>História dos Agentes Especiais</b></p>]\n"
     ]
    }
   ],
   "source": [
    "print(soup.find('ul').find_previous_siblings())"
   ]
  },
  {
   "cell_type": "markdown",
   "metadata": {
    "id": "cDn6Qf-BQvob"
   },
   "source": [
    "### 6 - Usando Seletor CSS e Combinando Elementos"
   ]
  },
  {
   "cell_type": "code",
   "execution_count": 83,
   "metadata": {},
   "outputs": [
    {
     "name": "stdout",
     "output_type": "stream",
     "text": [
      "<html><head><title>Os Agentes Especiais</title></head>\n",
      "<body>\n",
      "<p class=\"title\"><b>História dos Agentes Especiais</b></p>\n",
      "<p class=\"historia\">Era uma vez três agentes especiais; e seus nomes eram\n",
      "<a class=\"agente\" href=\"http://www.exemplo.com/james\" id=\"link1\">James</a>,\n",
      "<a class=\"agente\" href=\"http://www.exemplo.com/julio\" id=\"link2\">Julio</a> e\n",
      "<a class=\"agente\" href=\"http://www.exemplo.com/jucimar\" id=\"link3\">Jucimar</a>;\n",
      "e eles viviam em Londres, na Inglaterra.</p>\n",
      "<p class=\"historia\">...</p>\n",
      "<h1>Agentes Especiais</h1>\n",
      "<ul>\n",
      "<li data-id=\"10784\">James Bond, 007: Agente especial para atividades internacionais.</li>\n",
      "<li data-id=\"97865\">Julio Verner, 006: Agente especial contra o. terrorismo.</li>\n",
      "<li data-id=\"45732\">Jucimar Moraes, 005: Agente especial para proteger a rainha.</li>\n",
      "</ul>\n",
      "</body>\n",
      "</html>\n"
     ]
    }
   ],
   "source": [
    "print(soup)"
   ]
  },
  {
   "cell_type": "code",
   "execution_count": 84,
   "metadata": {},
   "outputs": [
    {
     "name": "stdout",
     "output_type": "stream",
     "text": [
      "[<li data-id=\"10784\">James Bond, 007: Agente especial para atividades internacionais.</li>, <li data-id=\"97865\">Julio Verner, 006: Agente especial contra o. terrorismo.</li>, <li data-id=\"45732\">Jucimar Moraes, 005: Agente especial para proteger a rainha.</li>]\n"
     ]
    }
   ],
   "source": [
    "print(soup.select('li[data-id]'))"
   ]
  },
  {
   "cell_type": "code",
   "execution_count": 85,
   "metadata": {},
   "outputs": [
    {
     "name": "stdout",
     "output_type": "stream",
     "text": [
      "<li data-id=\"97865\">Julio Verner, 006: Agente especial contra o. terrorismo.</li>\n"
     ]
    }
   ],
   "source": [
    "print(soup.select('ul li[data-id]')[1]) "
   ]
  },
  {
   "cell_type": "code",
   "execution_count": 86,
   "metadata": {
    "id": "DN0s8WngQyWX"
   },
   "outputs": [
    {
     "name": "stdout",
     "output_type": "stream",
     "text": [
      "<li data-id=\"10784\">James Bond, 007: Agente especial para atividades internacionais.</li>\n"
     ]
    }
   ],
   "source": [
    "print(soup.select_one('li[data-id]'))"
   ]
  },
  {
   "cell_type": "code",
   "execution_count": 87,
   "metadata": {},
   "outputs": [
    {
     "name": "stdout",
     "output_type": "stream",
     "text": [
      "[<a class=\"agente\" href=\"http://www.exemplo.com/james\" id=\"link1\">James</a>, <a class=\"agente\" href=\"http://www.exemplo.com/julio\" id=\"link2\">Julio</a>, <a class=\"agente\" href=\"http://www.exemplo.com/jucimar\" id=\"link3\">Jucimar</a>]\n"
     ]
    }
   ],
   "source": [
    "print(soup.select('p.historia > a.agente'))"
   ]
  },
  {
   "cell_type": "code",
   "execution_count": 88,
   "metadata": {},
   "outputs": [
    {
     "name": "stdout",
     "output_type": "stream",
     "text": [
      "[<b>História dos Agentes Especiais</b>]\n"
     ]
    }
   ],
   "source": [
    "print(soup.select('p b'))"
   ]
  },
  {
   "cell_type": "code",
   "execution_count": 89,
   "metadata": {},
   "outputs": [
    {
     "name": "stdout",
     "output_type": "stream",
     "text": [
      "[<h1>Agentes Especiais</h1>]\n"
     ]
    }
   ],
   "source": [
    "print(soup.select('p + h1'))"
   ]
  },
  {
   "cell_type": "code",
   "execution_count": 90,
   "metadata": {},
   "outputs": [
    {
     "name": "stdout",
     "output_type": "stream",
     "text": [
      "[<h1>Agentes Especiais</h1>]\n"
     ]
    }
   ],
   "source": [
    "print(soup.select('p.historia + h1'))"
   ]
  },
  {
   "cell_type": "code",
   "execution_count": 91,
   "metadata": {},
   "outputs": [
    {
     "name": "stdout",
     "output_type": "stream",
     "text": [
      "[<a class=\"agente\" href=\"http://www.exemplo.com/james\" id=\"link1\">James</a>, <a class=\"agente\" href=\"http://www.exemplo.com/julio\" id=\"link2\">Julio</a>, <a class=\"agente\" href=\"http://www.exemplo.com/jucimar\" id=\"link3\">Jucimar</a>]\n"
     ]
    }
   ],
   "source": [
    "print(soup.select('a[href*=\"exemplo.com\"]'))"
   ]
  },
  {
   "cell_type": "code",
   "execution_count": 92,
   "metadata": {
    "id": "iBjMs-8vQ8Ck"
   },
   "outputs": [
    {
     "name": "stdout",
     "output_type": "stream",
     "text": [
      "[<a class=\"agente\" href=\"http://www.exemplo.com/james\" id=\"link1\">James</a>, <a class=\"agente\" href=\"http://www.exemplo.com/julio\" id=\"link2\">Julio</a>, <a class=\"agente\" href=\"http://www.exemplo.com/jucimar\" id=\"link3\">Jucimar</a>]\n"
     ]
    }
   ],
   "source": [
    "print(soup.select('a[id*=\"link\"]'))"
   ]
  },
  {
   "cell_type": "markdown",
   "metadata": {},
   "source": [
    "# Fim"
   ]
  }
 ],
 "metadata": {
  "colab": {
   "name": "hwspSec2_BS4_Scrapy.ipynb",
   "provenance": []
  },
  "kernelspec": {
   "display_name": "Python 3 (ipykernel)",
   "language": "python",
   "name": "python3"
  },
  "language_info": {
   "codemirror_mode": {
    "name": "ipython",
    "version": 3
   },
   "file_extension": ".py",
   "mimetype": "text/x-python",
   "name": "python",
   "nbconvert_exporter": "python",
   "pygments_lexer": "ipython3",
   "version": "3.9.13"
  }
 },
 "nbformat": 4,
 "nbformat_minor": 1
}
